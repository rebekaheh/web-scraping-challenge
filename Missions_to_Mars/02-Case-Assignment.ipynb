{
 "cells": [
  {
   "cell_type": "code",
   "execution_count": 9,
   "metadata": {},
   "outputs": [],
   "source": [
    "import pandas as pd\n",
    "import time\n",
    "import pymongo\n",
    "from splinter import Browser\n",
    "from bs4 import BeautifulSoup\n",
    "from webdriver_manager.chrome import ChromeDriverManager\n",
    "from flask import Flask, render_template, redirect\n",
    "import pymongo"
   ]
  },
  {
   "cell_type": "code",
   "execution_count": 2,
   "metadata": {},
   "outputs": [
    {
     "name": "stderr",
     "output_type": "stream",
     "text": [
      "[WDM] - Current google-chrome version is 87.0.4280\n",
      "[WDM] - Get LATEST driver version for 87.0.4280\n",
      "[WDM] - Driver [C:\\Users\\RebekahDSK\\.wdm\\drivers\\chromedriver\\win32\\87.0.4280.88\\chromedriver.exe] found in cache\n"
     ]
    },
    {
     "name": "stdout",
     "output_type": "stream",
     "text": [
      " \n"
     ]
    }
   ],
   "source": [
    "# Configure ChromeDriver\n",
    "executable_path = {'executable_path': ChromeDriverManager().install()}\n",
    "browser = Browser('chrome', **executable_path)\n"
   ]
  },
  {
   "cell_type": "code",
   "execution_count": 3,
   "metadata": {},
   "outputs": [],
   "source": [
    "# # Insert into Mongo DB\n",
    "\n",
    "def scrape_all():\n",
    "\n",
    "    # Populate variables from the functions\n",
    "    news_title, news_p = mars_news()\n",
    "    featured_img_url = featured_image()\n",
    "    mars_facts_html = mars_facts()\n",
    "\n",
    "    # Assemble the document to insert into the database\n",
    "    nasa_document = {\n",
    "        'news_title': news_title,\n",
    "        'news_paragraph': news_p,\n",
    "        'featured_img_url': featured_img_url,\n",
    "        'mars_facts_html': mars_facts_html\n",
    "    }\n",
    "\n",
    "    # consider closing browser here\n",
    "    browser.quit()\n",
    "\n",
    "    return nasa_document"
   ]
  },
  {
   "cell_type": "markdown",
   "metadata": {},
   "source": [
    "# NASA Mars News"
   ]
  },
  {
   "cell_type": "code",
   "execution_count": 4,
   "metadata": {},
   "outputs": [],
   "source": [
    "def mars_news():\n",
    "    url = 'https://mars.nasa.gov/news/'\n",
    "    browser.visit(url)\n",
    "\n",
    "    html = browser.html\n",
    "    news_soup = BeautifulSoup(html, 'html.parser')\n",
    "\n",
    "    article_container = news_soup.find('ul', class_='item_list')\n",
    "\n",
    "    headline_date = article_container.find('div', class_='list_date').text\n",
    "    news_title = article_container.find('div', class_='content_title').find('a').text\n",
    "    news_p = article_container.find('div', class_='article_teaser_body').text\n",
    "\n",
    "    return news_title, news_p"
   ]
  },
  {
   "cell_type": "markdown",
   "metadata": {},
   "source": [
    "# JPL Mars Space Images - Featured Image"
   ]
  },
  {
   "cell_type": "code",
   "execution_count": 5,
   "metadata": {},
   "outputs": [],
   "source": [
    "def featured_image():\n",
    "    base_url = 'https://www.jpl.nasa.gov'\n",
    "\n",
    "    url = 'https://www.jpl.nasa.gov/spaceimages/?search=&category=Mars'\n",
    "    browser.visit(url)\n",
    "\n",
    "    html = browser.html\n",
    "    img_soup = BeautifulSoup(html, 'html.parser')\n",
    "\n",
    "    # Method 1: parsing through the style attribute in the article tag\n",
    "    try:\n",
    "        img_elem = img_soup.find('article', class_='carousel_item')['style']\n",
    "        img_rel_url = img_elem.replace(\"background-image: url('\", '')\n",
    "        img_rel_url = img_rel_url.replace(\"');\", '')\n",
    "        #print(img_rel_url)\n",
    "    except Exception as e:\n",
    "        print(e)\n",
    "\n",
    "    # Method 2: clicking the FULL TEXT button and pulling the image\n",
    "    try:\n",
    "        full_image_elem = browser.find_by_id('full_image')[0]\n",
    "        full_image_elem.click()\n",
    "\n",
    "        html = browser.html\n",
    "        img_soup = BeautifulSoup(html, 'html.parser')\n",
    "\n",
    "        img_rel_url = img_soup.find('img', class_='fancybox-image')['src']\n",
    "        #print(img_rel_url)\n",
    "    except Exception as e:\n",
    "        print(e)\n",
    "\n",
    "    featured_image_url  = f'{base_url}{img_rel_url}'\n",
    "    print(featured_image_url)\n",
    "    \n",
    "    return featured_image_url"
   ]
  },
  {
   "cell_type": "markdown",
   "metadata": {},
   "source": [
    "# Mars Facts"
   ]
  },
  {
   "cell_type": "code",
   "execution_count": 6,
   "metadata": {},
   "outputs": [],
   "source": [
    "def mars_facts():\n",
    "    url = 'https://space-facts.com/mars/'\n",
    "    browser.visit(url)\n",
    "\n",
    "    mars_facts_df = pd.read_html(url)\n",
    "    mars_facts_df = mars_facts_df[0]\n",
    "    mars_facts_df.columns = ['Description', 'Mars']\n",
    "    mars_facts_df\n",
    "\n",
    "    mars_facts_html = mars_facts_df.to_html(classes='table table-striped', index=False, border=0)\n",
    "    \n",
    "    return mars_facts_html"
   ]
  },
  {
   "cell_type": "markdown",
   "metadata": {},
   "source": [
    "# Mars Hemispheres"
   ]
  },
  {
   "cell_type": "code",
   "execution_count": 7,
   "metadata": {},
   "outputs": [],
   "source": [
    "# def mars_hemis():\n",
    "#     url4 = \"https://astrogeology.usgs.gov/search/results?q=hemisphere+enhanced&k1=target&v1=Mars\"\n",
    "#     browser.visit(url4)\n",
    "#     html = browser.html\n",
    "#     soup = BeautifulSoup(html, 'html.parser')\n",
    "#     mars_hemis=[]\n",
    "    \n",
    "#     for i in range (4):\n",
    "#         time.sleep(5)\n",
    "#         images = browser.find_by_tag('h3')\n",
    "#         images[i].click()\n",
    "#         html = browser.html\n",
    "#         soup = BeautifulSoup(html, 'html.parser')\n",
    "#         partial = soup.find(\"img\", class_=\"wide-image\")[\"src\"]\n",
    "#         img_title = soup.find(\"h2\",class_=\"title\").text\n",
    "#         img_url = 'https://astrogeology.usgs.gov'+ partial\n",
    "#         dictionary={\"title\":img_title,\"img_url\":img_url}\n",
    "#         mars_hemis.append(dictionary)\n",
    "#         browser.back()\n",
    "    \n",
    "#     mars_hemis['mars_hemis'] = mars_hemis\n",
    "    # mars_hemis.to_html(classes='table table-striped', index=False, border=0)\n",
    "    # return mars_hemis_html"
   ]
  },
  {
   "cell_type": "code",
   "execution_count": 10,
   "metadata": {},
   "outputs": [
    {
     "name": "stdout",
     "output_type": "stream",
     "text": [
      " * Serving Flask app \"__main__\" (lazy loading)\n",
      " * Environment: production\n",
      "   WARNING: This is a development server. Do not use it in a production deployment.\n",
      "   Use a production WSGI server instead.\n",
      " * Debug mode: on\n"
     ]
    },
    {
     "name": "stderr",
     "output_type": "stream",
     "text": [
      " * Restarting with windowsapi reloader\n"
     ]
    },
    {
     "ename": "SystemExit",
     "evalue": "1",
     "output_type": "error",
     "traceback": [
      "An exception has occurred, use %tb to see the full traceback.\n",
      "\u001b[1;31mSystemExit\u001b[0m\u001b[1;31m:\u001b[0m 1\n"
     ]
    },
    {
     "name": "stderr",
     "output_type": "stream",
     "text": [
      "C:\\Users\\RebekahDSK\\anaconda3\\lib\\site-packages\\IPython\\core\\interactiveshell.py:3351: UserWarning: To exit: use 'exit', 'quit', or Ctrl-D.\n",
      "  warn(\"To exit: use 'exit', 'quit', or Ctrl-D.\", stacklevel=1)\n"
     ]
    }
   ],
   "source": [
    "# Instantiate Flask app\n",
    "app = Flask(__name__)\n",
    "\n",
    "# Connect to MongoDB\n",
    "conn = 'mongodb://localhost:27017'\n",
    "client = pymongo.MongoClient(conn)\n",
    "\n",
    "# Connect to mars_app database\n",
    "db = client.mars_app\n",
    "\n",
    "# Connect to mars collection\n",
    "mars_coll = db.mars\n",
    "\n",
    "@app.route('/')\n",
    "def index():\n",
    "\n",
    "    mars_data = mars_coll.find_one()\n",
    "\n",
    "    return(render_template('index.html', mars_data=mars_data))\n",
    "\n",
    "@app.route('/scrape')\n",
    "def scrape():\n",
    "\n",
    "    # this is the py script with all of the scraping functions\n",
    "    import scrape_mars\n",
    "\n",
    "    # Gather document to insert\n",
    "    nasa_document = scrape_mars.scrape_all()\n",
    "\n",
    "    # Insert into the mars collection\n",
    "    # mars_coll.insert_one(nasa_document)\n",
    "\n",
    "    # Upsert into the mars collection (preferred to avoid duplicates)\n",
    "    mars_coll.update_one({}, {'$set': nasa_document}, upsert=True)\n",
    "\n",
    "    return redirect('/')\n",
    "\n",
    "if __name__ == '__main__':\n",
    "    app.run(debug=True)"
   ]
  },
  {
   "cell_type": "code",
   "execution_count": null,
   "metadata": {},
   "outputs": [],
   "source": []
  }
 ],
 "metadata": {
  "kernelspec": {
   "display_name": "Python 3",
   "language": "python",
   "name": "python3"
  },
  "language_info": {
   "codemirror_mode": {
    "name": "ipython",
    "version": 3
   },
   "file_extension": ".py",
   "mimetype": "text/x-python",
   "name": "python",
   "nbconvert_exporter": "python",
   "pygments_lexer": "ipython3",
   "version": "3.8.3"
  }
 },
 "nbformat": 4,
 "nbformat_minor": 4
}
