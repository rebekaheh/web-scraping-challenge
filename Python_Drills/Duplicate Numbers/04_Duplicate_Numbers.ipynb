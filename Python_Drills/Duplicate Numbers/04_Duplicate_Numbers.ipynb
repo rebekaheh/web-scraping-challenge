{
 "cells": [
  {
   "cell_type": "code",
   "execution_count": 1,
   "metadata": {},
   "outputs": [],
   "source": [
    "from iteration_utilities import duplicates"
   ]
  },
  {
   "cell_type": "code",
   "execution_count": 2,
   "metadata": {},
   "outputs": [
    {
     "name": "stdout",
     "output_type": "stream",
     "text": [
      "[6, 3, 3]\n"
     ]
    }
   ],
   "source": [
    "numbers = [1, 6, 6, 3, 3, 3, 4]\n",
    "answer = duplicates(numbers)\n",
    "print(list(answer))"
   ]
  },
  {
   "cell_type": "code",
   "execution_count": 15,
   "metadata": {},
   "outputs": [
    {
     "name": "stdout",
     "output_type": "stream",
     "text": [
      "[1, 6, 3, 4]\n"
     ]
    }
   ],
   "source": [
    "numbers = [1, 6, 6, 3, 3, 3, 4]\n",
    "\n",
    "for i in numbers:\n",
    "  if numbers.count(i) > 1:\n",
    "    numbers.remove(i)\n",
    "    \n",
    "print(numbers)"
   ]
  },
  {
   "cell_type": "code",
   "execution_count": 4,
   "metadata": {},
   "outputs": [],
   "source": [
    "from collections import Counter\n",
    "numbers = [1, 6, 6, 3, 3, 3, 4]\n",
    "a = 6\n",
    "b = 3\n",
    "c = Counter(numbers)"
   ]
  },
  {
   "cell_type": "code",
   "execution_count": 5,
   "metadata": {},
   "outputs": [
    {
     "name": "stdout",
     "output_type": "stream",
     "text": [
      "6 repeated 2 times\n",
      "3 repeated 3 times\n"
     ]
    }
   ],
   "source": [
    "print('{} repeated {} times'.format(a, c[a]))\n",
    "print('{} repeated {} times'.format(b, c[b]))"
   ]
  },
  {
   "cell_type": "code",
   "execution_count": null,
   "metadata": {},
   "outputs": [],
   "source": []
  },
  {
   "cell_type": "code",
   "execution_count": null,
   "metadata": {},
   "outputs": [],
   "source": []
  }
 ],
 "metadata": {
  "kernelspec": {
   "display_name": "Python 3",
   "language": "python",
   "name": "python3"
  },
  "language_info": {
   "codemirror_mode": {
    "name": "ipython",
    "version": 3
   },
   "file_extension": ".py",
   "mimetype": "text/x-python",
   "name": "python",
   "nbconvert_exporter": "python",
   "pygments_lexer": "ipython3",
   "version": "3.8.3"
  }
 },
 "nbformat": 4,
 "nbformat_minor": 4
}
